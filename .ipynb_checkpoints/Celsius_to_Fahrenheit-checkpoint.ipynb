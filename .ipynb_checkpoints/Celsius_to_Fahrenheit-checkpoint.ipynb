{
 "cells": [
  {
   "cell_type": "markdown",
   "id": "9ddd66af",
   "metadata": {},
   "source": [
    "Import dependencies"
   ]
  },
  {
   "cell_type": "code",
   "execution_count": 1,
   "id": "53450cf2",
   "metadata": {},
   "outputs": [],
   "source": [
    "import tensorflow as tf\n",
    "import numpy as np"
   ]
  },
  {
   "cell_type": "markdown",
   "id": "ebe726a8",
   "metadata": {},
   "source": [
    "Setting up training data"
   ]
  },
  {
   "cell_type": "code",
   "execution_count": 2,
   "id": "8d305ec3",
   "metadata": {},
   "outputs": [
    {
     "name": "stdout",
     "output_type": "stream",
     "text": [
      "-40.0 degree Celsius = -40.0 degree Fahrenheit\n",
      "-10.0 degree Celsius = 14.0 degree Fahrenheit\n",
      "0.0 degree Celsius = 32.0 degree Fahrenheit\n",
      "8.0 degree Celsius = 46.0 degree Fahrenheit\n",
      "15.0 degree Celsius = 59.0 degree Fahrenheit\n",
      "22.0 degree Celsius = 72.0 degree Fahrenheit\n",
      "38.0 degree Celsius = 100.0 degree Fahrenheit\n"
     ]
    }
   ],
   "source": [
    "celsius_x = np.array([-40, -10, 0, 8, 15, 22, 38], dtype=float)\n",
    "fahrenheit_y = np.array([-40, 14, 32, 46, 59, 72, 100], dtype=float)\n",
    "\n",
    "for i, e in enumerate(celsius_x):\n",
    "  print(\"{} degree Celsius = {} degree Fahrenheit\".format(e, fahrenheit_y[i]))"
   ]
  },
  {
   "cell_type": "markdown",
   "id": "bcac4022",
   "metadata": {},
   "source": [
    "Create and Build Layer"
   ]
  },
  {
   "cell_type": "code",
   "execution_count": 3,
   "id": "827bcb42",
   "metadata": {},
   "outputs": [],
   "source": [
    "df = tf.keras.layers.Dense(units = 1, input_shape=[1])"
   ]
  },
  {
   "cell_type": "markdown",
   "id": "69652d44",
   "metadata": {},
   "source": [
    "Assemble layers into the model"
   ]
  },
  {
   "cell_type": "code",
   "execution_count": 4,
   "id": "24820693",
   "metadata": {},
   "outputs": [],
   "source": [
    "model = tf.keras.Sequential([df])"
   ]
  },
  {
   "cell_type": "markdown",
   "id": "1191cb3c",
   "metadata": {},
   "source": [
    "Compile the model with loss and optimizer function"
   ]
  },
  {
   "cell_type": "code",
   "execution_count": 5,
   "id": "8b072a41",
   "metadata": {},
   "outputs": [],
   "source": [
    "model.compile(loss='mean_squared_error', optimizer = tf.keras.optimizers.Adam(0.1))"
   ]
  },
  {
   "cell_type": "markdown",
   "id": "6822e1af",
   "metadata": {},
   "source": [
    "Train the model by calling fit method"
   ]
  },
  {
   "cell_type": "code",
   "execution_count": 6,
   "id": "e7c433c1",
   "metadata": {},
   "outputs": [
    {
     "name": "stdout",
     "output_type": "stream",
     "text": [
      "Finished training the model\n"
     ]
    }
   ],
   "source": [
    "history = model.fit(celsius_x, fahrenheit_y, epochs=500, verbose=False)\n",
    "print(\"Finished training the model\")"
   ]
  },
  {
   "cell_type": "markdown",
   "id": "8999e933",
   "metadata": {},
   "source": [
    "Display Training Statistics"
   ]
  },
  {
   "cell_type": "code",
   "execution_count": 7,
   "id": "ff09d9c0",
   "metadata": {},
   "outputs": [
    {
     "data": {
      "text/plain": [
       "[<matplotlib.lines.Line2D at 0x13b456230a0>]"
      ]
     },
     "execution_count": 7,
     "metadata": {},
     "output_type": "execute_result"
    },
    {
     "data": {
      "image/png": "[encoded data removed]",
      "text/plain": [
       "<Figure size 640x480 with 1 Axes>"
      ]
     },
     "metadata": {},
     "output_type": "display_data"
    }
   ],
   "source": [
    "import matplotlib.pyplot as plt\n",
    "plt.xlabel('Epoch Number')\n",
    "plt.ylabel('Loss Magnitude')\n",
    "plt.plot(history.history['loss'])"
   ]
  },
  {
   "cell_type": "markdown",
   "id": "bcfa8f9b",
   "metadata": {},
   "source": [
    "Use the model to predict values"
   ]
  },
  {
   "cell_type": "code",
   "execution_count": 9,
   "id": "1a7802f3",
   "metadata": {},
   "outputs": [
    {
     "name": "stdout",
     "output_type": "stream",
     "text": [
      "1/1 [==============================] - 0s 48ms/step\n",
      "[[211.32181]]\n"
     ]
    }
   ],
   "source": [
    "print(model.predict([100.0]))"
   ]
  },
  {
   "cell_type": "markdown",
   "id": "421ebbde",
   "metadata": {},
   "source": [
    "Looking at the layer weights"
   ]
  },
  {
   "cell_type": "code",
   "execution_count": 10,
   "id": "79923378",
   "metadata": {},
   "outputs": [
    {
     "name": "stdout",
     "output_type": "stream",
     "text": [
      "These are the layer variables: [array([[1.8227935]], dtype=float32), array([29.042467], dtype=float32)]\n"
     ]
    }
   ],
   "source": [
    "print(\"These are the layer variables: {}\".format(df.get_weights()))"
   ]
  },
  {
   "cell_type": "code",
   "execution_count": null,
   "id": "6e11e8f7",
   "metadata": {},
   "outputs": [],
   "source": []
  }
 ],
 "metadata": {
  "kernelspec": {
   "display_name": "venv",
   "language": "python",
   "name": "venv"
  },
  "language_info": {
   "codemirror_mode": {
    "name": "ipython",
    "version": 3
   },
   "file_extension": ".py",
   "mimetype": "text/x-python",
   "name": "python",
   "nbconvert_exporter": "python",
   "pygments_lexer": "ipython3",
   "version": "3.10.0"
  }
 },
 "nbformat": 4,
 "nbformat_minor": 5
}
