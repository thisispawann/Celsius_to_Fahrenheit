{
 "cells": [
  {
   "cell_type": "markdown",
   "id": "9fcfe711",
   "metadata": {},
   "source": [
    "Import dependencies"
   ]
  },
  {
   "cell_type": "code",
   "execution_count": 1,
   "id": "5fc05d4e",
   "metadata": {},
   "outputs": [],
   "source": [
    "import tensorflow as tf\n",
    "import numpy as np"
   ]
  },
  {
   "cell_type": "markdown",
   "id": "cffec6a3",
   "metadata": {},
   "source": [
    "Setting up training data"
   ]
  },
  {
   "cell_type": "code",
   "execution_count": 2,
   "id": "00546255",
   "metadata": {},
   "outputs": [
    {
     "name": "stdout",
     "output_type": "stream",
     "text": [
      "-40.0 degree Celsius = -40.0 degree Fahrenheit\n",
      "-10.0 degree Celsius = 14.0 degree Fahrenheit\n",
      "0.0 degree Celsius = 32.0 degree Fahrenheit\n",
      "8.0 degree Celsius = 46.0 degree Fahrenheit\n",
      "15.0 degree Celsius = 59.0 degree Fahrenheit\n",
      "22.0 degree Celsius = 72.0 degree Fahrenheit\n",
      "38.0 degree Celsius = 100.0 degree Fahrenheit\n"
     ]
    }
   ],
   "source": [
    "celsius_x = np.array([-40, -10, 0, 8, 15, 22, 38], dtype=float)\n",
    "fahrenheit_y = np.array([-40, 14, 32, 46, 59, 72, 100], dtype=float)\n",
    "\n",
    "for i, e in enumerate(celsius_x):\n",
    "  print(\"{} degree Celsius = {} degree Fahrenheit\".format(e, fahrenheit_y[i]))"
   ]
  },
  {
   "cell_type": "markdown",
   "id": "d2b9b478",
   "metadata": {},
   "source": [
    "Create and Build Layer"
   ]
  },
  {
   "cell_type": "code",
   "execution_count": 3,
   "id": "d553a84b",
   "metadata": {},
   "outputs": [],
   "source": [
    "l0 = tf.keras.layers.Dense(units = 1, input_shape=[1])"
   ]
  },
  {
   "cell_type": "markdown",
   "id": "137f9825",
   "metadata": {},
   "source": [
    "Assemble layers into the model"
   ]
  },
  {
   "cell_type": "code",
   "execution_count": 4,
   "id": "b5e5033b",
   "metadata": {},
   "outputs": [],
   "source": [
    "model = tf.keras.Sequential([l0])"
   ]
  },
  {
   "cell_type": "markdown",
   "id": "44d6e5bd",
   "metadata": {},
   "source": [
    "Compile the model with loss and optimizer function"
   ]
  },
  {
   "cell_type": "code",
   "execution_count": 5,
   "id": "95df80d1",
   "metadata": {},
   "outputs": [],
   "source": [
    "model.compile(loss='mean_squared_error', optimizer = tf.keras.optimizers.Adam(0.1))"
   ]
  },
  {
   "cell_type": "markdown",
   "id": "7a8d5a03",
   "metadata": {},
   "source": [
    "Train the model by calling fit method"
   ]
  },
  {
   "cell_type": "code",
   "execution_count": 6,
   "id": "cc565ee4",
   "metadata": {},
   "outputs": [
    {
     "name": "stdout",
     "output_type": "stream",
     "text": [
      "Finished training the model\n"
     ]
    }
   ],
   "source": [
    "history = model.fit(celsius_x, fahrenheit_y, epochs=500, verbose=False)\n",
    "print(\"Finished training the model\")"
   ]
  },
  {
   "cell_type": "markdown",
   "id": "547e4532",
   "metadata": {},
   "source": [
    "Display Training Statistics"
   ]
  },
  {
   "cell_type": "code",
   "execution_count": 7,
   "id": "3ddfff33",
   "metadata": {},
   "outputs": [
    {
     "data": {
      "text/plain": [
       "[<matplotlib.lines.Line2D at 0x25326509000>]"
      ]
     },
     "execution_count": 7,
     "metadata": {},
     "output_type": "execute_result"
    },
    {
     "data": {
      "image/png": "[encoded data removed]",
      "text/plain": [
       "<Figure size 640x480 with 1 Axes>"
      ]
     },
     "metadata": {},
     "output_type": "display_data"
    }
   ],
   "source": [
    "import matplotlib.pyplot as plt\n",
    "plt.xlabel('Epoch Number')\n",
    "plt.ylabel('Loss Magnitude')\n",
    "plt.plot(history.history['loss'])"
   ]
  },
  {
   "cell_type": "markdown",
   "id": "3d1c1c10",
   "metadata": {},
   "source": [
    "Use the model to predict values"
   ]
  },
  {
   "cell_type": "code",
   "execution_count": 8,
   "id": "0026d1b3",
   "metadata": {},
   "outputs": [
    {
     "name": "stdout",
     "output_type": "stream",
     "text": [
      "1/1 [==============================] - 0s 105ms/step\n",
      "[[211.31348]]\n"
     ]
    }
   ],
   "source": [
    "print(model.predict([100.0]))"
   ]
  },
  {
   "cell_type": "markdown",
   "id": "373bc7f0",
   "metadata": {},
   "source": [
    "Looking at the layer weights"
   ]
  },
  {
   "cell_type": "code",
   "execution_count": 10,
   "id": "e186206f",
   "metadata": {},
   "outputs": [
    {
     "name": "stdout",
     "output_type": "stream",
     "text": [
      "These are the layer variables: [array([[1.8238707]], dtype=float32), array([28.926403], dtype=float32)]\n"
     ]
    }
   ],
   "source": [
    "print(\"These are the layer variables: {}\".format(l0.get_weights()))"
   ]
  },
  {
   "cell_type": "code",
   "execution_count": null,
   "id": "39e9a107",
   "metadata": {},
   "outputs": [],
   "source": []
  }
 ],
 "metadata": {
  "kernelspec": {
   "display_name": "venv",
   "language": "python",
   "name": "venv"
  },
  "language_info": {
   "codemirror_mode": {
    "name": "ipython",
    "version": 3
   },
   "file_extension": ".py",
   "mimetype": "text/x-python",
   "name": "python",
   "nbconvert_exporter": "python",
   "pygments_lexer": "ipython3",
   "version": "3.10.0"
  }
 },
 "nbformat": 4,
 "nbformat_minor": 5
}
