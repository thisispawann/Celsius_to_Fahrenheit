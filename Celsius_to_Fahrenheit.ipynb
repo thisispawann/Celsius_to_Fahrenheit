{
 "cells": [
  {
   "cell_type": "markdown",
   "id": "a98b2986",
   "metadata": {},
   "source": [
    "Import dependencies"
   ]
  },
  {
   "cell_type": "code",
   "execution_count": 1,
   "id": "e2dde044",
   "metadata": {},
   "outputs": [],
   "source": [
    "import tensorflow as tf\n",
    "import numpy as np"
   ]
  },
  {
   "cell_type": "markdown",
   "id": "4e56355b",
   "metadata": {},
   "source": [
    "Setting up training data"
   ]
  },
  {
   "cell_type": "code",
   "execution_count": 2,
   "id": "3b3c36c2",
   "metadata": {},
   "outputs": [
    {
     "name": "stdout",
     "output_type": "stream",
     "text": [
      "-40.0 degree Celsius = -40.0 degree Fahrenheit\n",
      "-10.0 degree Celsius = 14.0 degree Fahrenheit\n",
      "0.0 degree Celsius = 32.0 degree Fahrenheit\n",
      "8.0 degree Celsius = 46.0 degree Fahrenheit\n",
      "15.0 degree Celsius = 59.0 degree Fahrenheit\n",
      "22.0 degree Celsius = 72.0 degree Fahrenheit\n",
      "38.0 degree Celsius = 100.0 degree Fahrenheit\n"
     ]
    }
   ],
   "source": [
    "celsius_x = np.array([-40, -10, 0, 8, 15, 22, 38], dtype=float)\n",
    "fahrenheit_y = np.array([-40, 14, 32, 46, 59, 72, 100], dtype=float)\n",
    "\n",
    "for i, e in enumerate(celsius_x):\n",
    "  print(\"{} degree Celsius = {} degree Fahrenheit\".format(e, fahrenheit_y[i]))"
   ]
  },
  {
   "cell_type": "markdown",
   "id": "409cfffc",
   "metadata": {},
   "source": [
    "Create and Build Layer"
   ]
  },
  {
   "cell_type": "code",
   "execution_count": 3,
   "id": "fc98b9f5",
   "metadata": {},
   "outputs": [],
   "source": [
    "df = tf.keras.layers.Dense(units = 1, input_shape=[1])"
   ]
  },
  {
   "cell_type": "code",
   "execution_count": null,
   "id": "2c59e011",
   "metadata": {},
   "outputs": [],
   "source": []
  }
 ],
 "metadata": {
  "kernelspec": {
   "display_name": "venv",
   "language": "python",
   "name": "venv"
  },
  "language_info": {
   "codemirror_mode": {
    "name": "ipython",
    "version": 3
   },
   "file_extension": ".py",
   "mimetype": "text/x-python",
   "name": "python",
   "nbconvert_exporter": "python",
   "pygments_lexer": "ipython3",
   "version": "3.10.0"
  }
 },
 "nbformat": 4,
 "nbformat_minor": 5
}
