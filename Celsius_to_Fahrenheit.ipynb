{
 "cells": [
  {
   "cell_type": "markdown",
   "id": "db036c53",
   "metadata": {},
   "source": [
    "Import dependencies"
   ]
  },
  {
   "cell_type": "code",
   "execution_count": 1,
   "id": "5c10d4cd",
   "metadata": {},
   "outputs": [],
   "source": [
    "import tensorflow as tf\n",
    "import numpy as np"
   ]
  },
  {
   "cell_type": "markdown",
   "id": "7f0f2bdc",
   "metadata": {},
   "source": [
    "Setting up training data"
   ]
  },
  {
   "cell_type": "code",
   "execution_count": 2,
   "id": "8ee21b04",
   "metadata": {},
   "outputs": [
    {
     "name": "stdout",
     "output_type": "stream",
     "text": [
      "-40.0 degree Celsius = -40.0 degree Fahrenheit\n",
      "-10.0 degree Celsius = 14.0 degree Fahrenheit\n",
      "0.0 degree Celsius = 32.0 degree Fahrenheit\n",
      "8.0 degree Celsius = 46.0 degree Fahrenheit\n",
      "15.0 degree Celsius = 59.0 degree Fahrenheit\n",
      "22.0 degree Celsius = 72.0 degree Fahrenheit\n",
      "38.0 degree Celsius = 100.0 degree Fahrenheit\n"
     ]
    }
   ],
   "source": [
    "celsius_x = np.array([-40, -10, 0, 8, 15, 22, 38], dtype=float)\n",
    "fahrenheit_y = np.array([-40, 14, 32, 46, 59, 72, 100], dtype=float)\n",
    "\n",
    "for i, e in enumerate(celsius_x):\n",
    "  print(\"{} degree Celsius = {} degree Fahrenheit\".format(e, fahrenheit_y[i]))"
   ]
  },
  {
   "cell_type": "markdown",
   "id": "fae5242c",
   "metadata": {},
   "source": [
    "Create and Build Layer"
   ]
  },
  {
   "cell_type": "code",
   "execution_count": 3,
   "id": "5e4ccee3",
   "metadata": {},
   "outputs": [],
   "source": [
    "df = tf.keras.layers.Dense(units = 1, input_shape=[1])"
   ]
  },
  {
   "cell_type": "markdown",
   "id": "095ea76b",
   "metadata": {},
   "source": [
    "Assemble layers into the model"
   ]
  },
  {
   "cell_type": "code",
   "execution_count": 4,
   "id": "f12e5288",
   "metadata": {},
   "outputs": [],
   "source": [
    "model = tf.keras.Sequential([df])"
   ]
  },
  {
   "cell_type": "markdown",
   "id": "c7220dac",
   "metadata": {},
   "source": [
    "Compile the model with loss and optimizer function"
   ]
  },
  {
   "cell_type": "code",
   "execution_count": 5,
   "id": "3ad4d34c",
   "metadata": {},
   "outputs": [],
   "source": [
    "model.compile(loss='mean_squared_error', optimizer = tf.keras.optimizers.Adam(0.1))"
   ]
  },
  {
   "cell_type": "markdown",
   "id": "19a5d5c1",
   "metadata": {},
   "source": [
    "Train the model by calling fit method"
   ]
  },
  {
   "cell_type": "code",
   "execution_count": 6,
   "id": "70d4a167",
   "metadata": {},
   "outputs": [
    {
     "name": "stdout",
     "output_type": "stream",
     "text": [
      "Finished training the model\n"
     ]
    }
   ],
   "source": [
    "history = model.fit(celsius_x, fahrenheit_y, epochs=500, verbose=False)\n",
    "print(\"Finished training the model\")"
   ]
  },
  {
   "cell_type": "code",
   "execution_count": null,
   "id": "531f81dc",
   "metadata": {},
   "outputs": [],
   "source": []
  }
 ],
 "metadata": {
  "kernelspec": {
   "display_name": "venv",
   "language": "python",
   "name": "venv"
  },
  "language_info": {
   "codemirror_mode": {
    "name": "ipython",
    "version": 3
   },
   "file_extension": ".py",
   "mimetype": "text/x-python",
   "name": "python",
   "nbconvert_exporter": "python",
   "pygments_lexer": "ipython3",
   "version": "3.10.0"
  }
 },
 "nbformat": 4,
 "nbformat_minor": 5
}
